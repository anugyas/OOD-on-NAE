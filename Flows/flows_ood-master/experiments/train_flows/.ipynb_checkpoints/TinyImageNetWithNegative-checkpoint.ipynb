{
 "cells": [
  {
   "cell_type": "code",
   "execution_count": null,
   "metadata": {},
   "outputs": [
    {
     "name": "stdout",
     "output_type": "stream",
     "text": [
      "Building RealNVP model...\n",
      "Model contains 19631640 parameters\n",
      "\n",
      "Epoch: 0\n",
      " 41%|████▉       | 41312/100000 [14:32<20:31, 47.64it/s, bpd=4.96, loss=4.22e+4]"
     ]
    }
   ],
   "source": [
    "!python train_unsup_ood_negative.py --dataset=TinyImageNet --data_path=/scratch/as14770/CV-FinalProject/tiny-imagenet-200 --ood_data_path=/scratch/as14770/CV-FinalProject/DATA/imagenet-o --logdir=/scratch/as14770/CV-FinalProject/TinyImageNetWithNegativeLogs --ckptdir=/scratch/as14770/CV-FinalProject/TinyImageNetWithNegativeLogs "
   ]
  },
  {
   "cell_type": "code",
   "execution_count": null,
   "metadata": {},
   "outputs": [],
   "source": [
    "!python train_unsup.py --dataset=CIFAR10 --data_path=None --logdir=/scratch/as14770/CV-FinalProject/Flows/Trial \\\n",
    "  --ckptdir=/scratch/as14770/CV-FinalProject/Flows/Trial --num_epochs=101 --lr=1e-4 --batch_size=32 --num_blocks=8 \\\n",
    "  --weight_decay=5e-5 --num_scales=3"
   ]
  },
  {
   "cell_type": "code",
   "execution_count": null,
   "metadata": {},
   "outputs": [],
   "source": [
    "!python train_unsup_ood.py --dataset=CIFAR10 --data_path=None --ood_data_path=/scratch/as14770/CV-FinalProject/DATA/imagenet-o --logdir=/scratch/as14770/CV-FinalProject/Flows/Trial1 --ckptdir=/scratch/as14770/CV-FinalProject/Flows/Trial1 "
   ]
  }
 ],
 "metadata": {
  "kernelspec": {
   "display_name": "my_pytorch_env",
   "language": "python",
   "name": "my_pytorch_env"
  },
  "language_info": {
   "codemirror_mode": {
    "name": "ipython",
    "version": 3
   },
   "file_extension": ".py",
   "mimetype": "text/x-python",
   "name": "python",
   "nbconvert_exporter": "python",
   "pygments_lexer": "ipython3",
   "version": "3.9.5"
  }
 },
 "nbformat": 4,
 "nbformat_minor": 4
}
