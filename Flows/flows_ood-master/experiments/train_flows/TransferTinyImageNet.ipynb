{
 "cells": [
  {
   "cell_type": "code",
   "execution_count": 5,
   "metadata": {},
   "outputs": [
    {
     "name": "stdout",
     "output_type": "stream",
     "text": [
      "NUM CLASSES:  tensor([200])\n",
      "Building RealNVPTabular model...\n",
      "Model contains 3478016 parameters\n",
      "\n",
      "Epoch: 0\n",
      "100%|██████████| 100000/100000 [02:05<00:00, 793.67it/s, bpd=8.04, loss=1.14e+4]\n",
      "100%|███████████| 10000/10000 [00:03<00:00, 2654.99it/s, bpd=8.37, loss=1.19e+4]\n",
      "100%|██████████████| 2000/2000 [00:01<00:00, 1900.61it/s, bpd=8.43, loss=1.2e+4]\n",
      "/home/as14770/.local/lib/python3.9/site-packages/seaborn/distributions.py:2619: FutureWarning: `distplot` is a deprecated function and will be removed in a future version. Please adapt your code to use either `displot` (a figure-level function with similar flexibility) or `histplot` (an axes-level function for histograms).\n",
      "  warnings.warn(msg, FutureWarning)\n",
      "/home/as14770/.local/lib/python3.9/site-packages/seaborn/distributions.py:2619: FutureWarning: `distplot` is a deprecated function and will be removed in a future version. Please adapt your code to use either `displot` (a figure-level function with similar flexibility) or `histplot` (an axes-level function for histograms).\n",
      "  warnings.warn(msg, FutureWarning)\n",
      "/scratch/as14770/CV-FinalProject/Flows/flows_ood-master/experiments/train_flows/train_unsup_ood.py:355: DeprecationWarning: The binary mode of fromstring is deprecated, as it behaves surprisingly on unicode inputs. Use frombuffer instead\n",
      "  hist_img = torch.tensor(np.fromstring(fig.canvas.tostring_rgb(), dtype=np.uint8, sep=''))\n",
      "/scratch/as14770/CV-FinalProject/Flows/flows_ood-master/experiments/train_flows/train_unsup_ood.py:356: UserWarning: To copy construct from a tensor, it is recommended to use sourceTensor.clone().detach() or sourceTensor.clone().detach().requires_grad_(True), rather than torch.tensor(sourceTensor).\n",
      "  hist_img = torch.tensor(hist_img.reshape(fig.canvas.get_width_height()[::-1] + (3,))).transpose(0, 2).transpose(1, 2)\n",
      "Saving...\n",
      "\n",
      "Epoch: 1\n",
      " 13%|█▌          | 13184/100000 [00:16<01:52, 774.77it/s, bpd=8.5, loss=1.21e+4]^C\n",
      " 13%|█▌          | 13184/100000 [00:16<01:50, 782.20it/s, bpd=8.5, loss=1.21e+4]\n",
      "Traceback (most recent call last):\n",
      "  File \"/scratch/as14770/CV-FinalProject/Flows/flows_ood-master/experiments/train_flows/train_unsup_ood.py\", line 330, in <module>\n",
      "    train(epoch, net, trainloader, device, optimizer, loss_fn, args.max_grad_norm, writer, num_samples=args.num_samples)\n",
      "  File \"/scratch/as14770/CV-FinalProject/Flows/flows_ood-master/experiments/train_flows/train_unsup_ood.py\", line 69, in train\n",
      "    optimizer.step()\n",
      "  File \"/ext3/miniconda3/lib/python3.9/site-packages/torch/optim/optimizer.py\", line 89, in wrapper\n",
      "    return func(*args, **kwargs)\n",
      "  File \"/ext3/miniconda3/lib/python3.9/site-packages/torch/autograd/grad_mode.py\", line 27, in decorate_context\n",
      "    return func(*args, **kwargs)\n",
      "  File \"/ext3/miniconda3/lib/python3.9/site-packages/torch/optim/adam.py\", line 108, in step\n",
      "    F.adam(params_with_grad,\n",
      "  File \"/ext3/miniconda3/lib/python3.9/site-packages/torch/optim/_functional.py\", line 92, in adam\n"
     ]
    }
   ],
   "source": [
    "!python train_unsup_ood.py --flow=RealNVPTabular --dataset=TransferTinyImageNet --data_path=/scratch/as14770/CV-FinalProject/TinyImageNetEmbeddings --ood_dataset=transferimageneto --ood_data_path=/scratch/as14770/CV-FinalProject/TinyImageNetEmbeddings --logdir=/scratch/as14770/CV-FinalProject/TransferTinyImageNetLogs --ckptdir=/scratch/as14770/CV-FinalProject/TransferTinyImageNetLogs "
   ]
  },
  {
   "cell_type": "code",
   "execution_count": null,
   "metadata": {},
   "outputs": [],
   "source": []
  },
  {
   "cell_type": "code",
   "execution_count": null,
   "metadata": {},
   "outputs": [],
   "source": []
  }
 ],
 "metadata": {
  "kernelspec": {
   "display_name": "my_pytorch_env",
   "language": "python",
   "name": "my_pytorch_env"
  },
  "language_info": {
   "codemirror_mode": {
    "name": "ipython",
    "version": 3
   },
   "file_extension": ".py",
   "mimetype": "text/x-python",
   "name": "python",
   "nbconvert_exporter": "python",
   "pygments_lexer": "ipython3",
   "version": "3.9.5"
  }
 },
 "nbformat": 4,
 "nbformat_minor": 4
}
