{
 "cells": [
  {
   "cell_type": "code",
   "execution_count": 1,
   "metadata": {},
   "outputs": [
    {
     "name": "stdout",
     "output_type": "stream",
     "text": [
      "NUM CLASSES:  tensor([200])\n",
      "Building RealNVPTabular model...\n",
      "Model contains 3478016 parameters\n",
      "^C\n"
     ]
    }
   ],
   "source": [
    "!python train_unsup_ood-Copy1.py --flow=RealNVPTabular --dataset=TransferTinyImageNet --data_path=/scratch/as14770/CV-FinalProject/DATA/TinyImageNetEmbeddings --ood_dataset=transferimageneto --ood_data_path=/scratch/as14770/CV-FinalProject/DATA/TinyImageNetEmbeddings --logdir=/scratch/as14770/CV-FinalProject/Flows/TransferTinyImageNetCycleMaskLogs --ckptdir=/scratch/as14770/CV-FinalProject/Flows/TransferTinyImageNetCycleMaskLogs --no_sampling --dropout"
   ]
  },
  {
   "cell_type": "code",
   "execution_count": null,
   "metadata": {},
   "outputs": [],
   "source": []
  }
 ],
 "metadata": {
  "kernelspec": {
   "display_name": "my_pytorch_env",
   "language": "python",
   "name": "my_pytorch_env"
  },
  "language_info": {
   "codemirror_mode": {
    "name": "ipython",
    "version": 3
   },
   "file_extension": ".py",
   "mimetype": "text/x-python",
   "name": "python",
   "nbconvert_exporter": "python",
   "pygments_lexer": "ipython3",
   "version": "3.9.5"
  }
 },
 "nbformat": 4,
 "nbformat_minor": 4
}
