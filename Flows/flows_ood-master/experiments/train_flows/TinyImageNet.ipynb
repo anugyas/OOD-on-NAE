{
 "cells": [
  {
   "cell_type": "code",
   "execution_count": null,
   "metadata": {},
   "outputs": [
    {
     "name": "stdout",
     "output_type": "stream",
     "text": [
      "Building RealNVP model...\n",
      "Model contains 19631640 parameters\n",
      "\n",
      "Epoch: 0\n",
      "100%|██████████| 100000/100000 [14:19<00:00, 116.29it/s, bpd=4.45, loss=9.48e+3]\n",
      "100%|████████████| 10001/10001 [00:18<00:00, 540.30it/s, bpd=18.4, loss=3.92e+4]\n",
      "100%|████████████████| 2000/2000 [00:07<00:00, 263.90it/s, bpd=55, loss=1.17e+5]\n",
      "/home/as14770/.local/lib/python3.9/site-packages/seaborn/distributions.py:2619: FutureWarning: `distplot` is a deprecated function and will be removed in a future version. Please adapt your code to use either `displot` (a figure-level function with similar flexibility) or `histplot` (an axes-level function for histograms).\n",
      "  warnings.warn(msg, FutureWarning)\n",
      "/home/as14770/.local/lib/python3.9/site-packages/seaborn/distributions.py:2619: FutureWarning: `distplot` is a deprecated function and will be removed in a future version. Please adapt your code to use either `displot` (a figure-level function with similar flexibility) or `histplot` (an axes-level function for histograms).\n",
      "  warnings.warn(msg, FutureWarning)\n",
      "/scratch/as14770/CV-FinalProject/Flows/flows_ood-master/experiments/train_flows/train_unsup_ood.py:356: DeprecationWarning: The binary mode of fromstring is deprecated, as it behaves surprisingly on unicode inputs. Use frombuffer instead\n",
      "  hist_img = torch.tensor(np.fromstring(fig.canvas.tostring_rgb(), dtype=np.uint8, sep=''))\n",
      "/scratch/as14770/CV-FinalProject/Flows/flows_ood-master/experiments/train_flows/train_unsup_ood.py:357: UserWarning: To copy construct from a tensor, it is recommended to use sourceTensor.clone().detach() or sourceTensor.clone().detach().requires_grad_(True), rather than torch.tensor(sourceTensor).\n",
      "  hist_img = torch.tensor(hist_img.reshape(fig.canvas.get_width_height()[::-1] + (3,))).transpose(0, 2).transpose(1, 2)\n",
      "Saving...\n",
      "\n",
      "Epoch: 1\n",
      "100%|██████████| 100000/100000 [15:19<00:00, 108.70it/s, bpd=3.96, loss=8.44e+3]\n",
      "100%|████████████| 10001/10001 [00:18<00:00, 548.96it/s, bpd=9.17, loss=1.95e+4]\n",
      "100%|██████████████| 2000/2000 [00:04<00:00, 474.17it/s, bpd=39.6, loss=8.42e+4]\n",
      "/home/as14770/.local/lib/python3.9/site-packages/seaborn/distributions.py:2619: FutureWarning: `distplot` is a deprecated function and will be removed in a future version. Please adapt your code to use either `displot` (a figure-level function with similar flexibility) or `histplot` (an axes-level function for histograms).\n",
      "  warnings.warn(msg, FutureWarning)\n",
      "/home/as14770/.local/lib/python3.9/site-packages/seaborn/distributions.py:2619: FutureWarning: `distplot` is a deprecated function and will be removed in a future version. Please adapt your code to use either `displot` (a figure-level function with similar flexibility) or `histplot` (an axes-level function for histograms).\n",
      "  warnings.warn(msg, FutureWarning)\n",
      "/scratch/as14770/CV-FinalProject/Flows/flows_ood-master/experiments/train_flows/train_unsup_ood.py:356: DeprecationWarning: The binary mode of fromstring is deprecated, as it behaves surprisingly on unicode inputs. Use frombuffer instead\n",
      "  hist_img = torch.tensor(np.fromstring(fig.canvas.tostring_rgb(), dtype=np.uint8, sep=''))\n",
      "/scratch/as14770/CV-FinalProject/Flows/flows_ood-master/experiments/train_flows/train_unsup_ood.py:357: UserWarning: To copy construct from a tensor, it is recommended to use sourceTensor.clone().detach() or sourceTensor.clone().detach().requires_grad_(True), rather than torch.tensor(sourceTensor).\n",
      "  hist_img = torch.tensor(hist_img.reshape(fig.canvas.get_width_height()[::-1] + (3,))).transpose(0, 2).transpose(1, 2)\n",
      "\n",
      "Epoch: 2\n",
      "100%|██████████| 100000/100000 [14:56<00:00, 111.49it/s, bpd=3.78, loss=8.05e+3]\n",
      "100%|████████████| 10001/10001 [00:18<00:00, 549.86it/s, bpd=10.6, loss=2.26e+4]\n",
      "100%|██████████████| 2000/2000 [00:04<00:00, 476.91it/s, bpd=30.2, loss=6.43e+4]\n",
      "/home/as14770/.local/lib/python3.9/site-packages/seaborn/distributions.py:2619: FutureWarning: `distplot` is a deprecated function and will be removed in a future version. Please adapt your code to use either `displot` (a figure-level function with similar flexibility) or `histplot` (an axes-level function for histograms).\n",
      "  warnings.warn(msg, FutureWarning)\n",
      "/home/as14770/.local/lib/python3.9/site-packages/seaborn/distributions.py:2619: FutureWarning: `distplot` is a deprecated function and will be removed in a future version. Please adapt your code to use either `displot` (a figure-level function with similar flexibility) or `histplot` (an axes-level function for histograms).\n",
      "  warnings.warn(msg, FutureWarning)\n",
      "/scratch/as14770/CV-FinalProject/Flows/flows_ood-master/experiments/train_flows/train_unsup_ood.py:356: DeprecationWarning: The binary mode of fromstring is deprecated, as it behaves surprisingly on unicode inputs. Use frombuffer instead\n",
      "  hist_img = torch.tensor(np.fromstring(fig.canvas.tostring_rgb(), dtype=np.uint8, sep=''))\n",
      "/scratch/as14770/CV-FinalProject/Flows/flows_ood-master/experiments/train_flows/train_unsup_ood.py:357: UserWarning: To copy construct from a tensor, it is recommended to use sourceTensor.clone().detach() or sourceTensor.clone().detach().requires_grad_(True), rather than torch.tensor(sourceTensor).\n",
      "  hist_img = torch.tensor(hist_img.reshape(fig.canvas.get_width_height()[::-1] + (3,))).transpose(0, 2).transpose(1, 2)\n",
      "\n",
      "Epoch: 3\n",
      "100%|██████████| 100000/100000 [14:36<00:00, 114.03it/s, bpd=3.67, loss=7.81e+3]\n",
      "100%|███████████| 100000/100000 [14:56<00:00, 111.53it/s, bpd=3.6, loss=7.66e+3]\n",
      " 13%|█▋           | 1312/10001 [00:02<00:16, 542.84it/s, bpd=5.44, loss=1.16e+4]"
     ]
    },
    {
     "name": "stderr",
     "output_type": "stream",
     "text": [
      "IOPub message rate exceeded.\n",
      "The notebook server will temporarily stop sending output\n",
      "to the client in order to avoid crashing it.\n",
      "To change this limit, set the config variable\n",
      "`--NotebookApp.iopub_msg_rate_limit`.\n",
      "\n",
      "Current values:\n",
      "NotebookApp.iopub_msg_rate_limit=1000.0 (msgs/sec)\n",
      "NotebookApp.rate_limit_window=3.0 (secs)\n",
      "\n"
     ]
    },
    {
     "name": "stdout",
     "output_type": "stream",
     "text": [
      " 78%|████████▌  | 77568/100000 [11:34<03:05, 120.83it/s, bpd=3.55, loss=7.57e+3]"
     ]
    }
   ],
   "source": [
    "!python train_unsup_ood.py --dataset=TinyImageNet --data_path=/scratch/as14770/CV-FinalProject/tiny-imagenet-200 --ood_dataset=ImageNet-O --ood_data_path=/scratch/as14770/CV-FinalProject/DATA/imagenet-o --logdir=/scratch/as14770/CV-FinalProject/Flows/TinyImageNetLogs32 --ckptdir=/scratch/as14770/CV-FinalProject/Flows/TinyImageNetLogs32 "
   ]
  }
 ],
 "metadata": {
  "kernelspec": {
   "display_name": "my_pytorch_env",
   "language": "python",
   "name": "my_pytorch_env"
  },
  "language_info": {
   "codemirror_mode": {
    "name": "ipython",
    "version": 3
   },
   "file_extension": ".py",
   "mimetype": "text/x-python",
   "name": "python",
   "nbconvert_exporter": "python",
   "pygments_lexer": "ipython3",
   "version": "3.9.5"
  }
 },
 "nbformat": 4,
 "nbformat_minor": 4
}
