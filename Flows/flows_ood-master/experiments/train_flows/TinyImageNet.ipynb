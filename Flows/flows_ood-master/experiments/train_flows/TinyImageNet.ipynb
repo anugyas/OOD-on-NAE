{
 "cells": [
  {
   "cell_type": "code",
   "execution_count": null,
   "metadata": {},
   "outputs": [
    {
     "name": "stdout",
     "output_type": "stream",
     "text": [
      "Building RealNVP model...\n",
      "Model contains 19631640 parameters\n",
      "\n",
      "Epoch: 0\n",
      " 83%|█████████  | 82816/100000 [11:43<02:21, 121.13it/s, bpd=4.52, loss=9.62e+3]"
     ]
    }
   ],
   "source": [
    "!python train_unsup_ood.py --dataset=TinyImageNet --data_path=/scratch/as14770/CV-FinalProject/tiny-imagenet-200 --ood_dataset=ImageNet-O --ood_data_path=/scratch/as14770/CV-FinalProject/DATA/imagenet-o --logdir=/scratch/as14770/CV-FinalProject/Flows/TinyImageNetLogs32 --ckptdir=/scratch/as14770/CV-FinalProject/Flows/TinyImageNetLogs32 "
   ]
  }
 ],
 "metadata": {
  "kernelspec": {
   "display_name": "my_pytorch_env",
   "language": "python",
   "name": "my_pytorch_env"
  },
  "language_info": {
   "codemirror_mode": {
    "name": "ipython",
    "version": 3
   },
   "file_extension": ".py",
   "mimetype": "text/x-python",
   "name": "python",
   "nbconvert_exporter": "python",
   "pygments_lexer": "ipython3",
   "version": "3.9.5"
  }
 },
 "nbformat": 4,
 "nbformat_minor": 4
}
