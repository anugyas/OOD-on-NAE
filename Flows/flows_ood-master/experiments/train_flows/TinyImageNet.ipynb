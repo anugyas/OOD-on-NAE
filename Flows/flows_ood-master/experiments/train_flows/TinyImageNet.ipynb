{
 "cells": [
  {
   "cell_type": "code",
   "execution_count": 4,
   "metadata": {},
   "outputs": [
    {
     "name": "stdout",
     "output_type": "stream",
     "text": [
      "Building RealNVP model...\n",
      "Model contains 19631640 parameters\n",
      "\n",
      "Epoch: 0\n",
      "100%|███████████| 100000/100000 [35:15<00:00, 47.28it/s, bpd=4.63, loss=3.95e+4]\n",
      "100%|████████████| 10001/10001 [01:00<00:00, 164.05it/s, bpd=4.25, loss=3.62e+4]\n",
      "100%|██████████████| 2000/2000 [00:12<00:00, 156.81it/s, bpd=4.26, loss=3.63e+4]\n",
      "/home/as14770/.local/lib/python3.9/site-packages/seaborn/distributions.py:2619: FutureWarning: `distplot` is a deprecated function and will be removed in a future version. Please adapt your code to use either `displot` (a figure-level function with similar flexibility) or `histplot` (an axes-level function for histograms).\n",
      "  warnings.warn(msg, FutureWarning)\n",
      "/home/as14770/.local/lib/python3.9/site-packages/seaborn/distributions.py:2619: FutureWarning: `distplot` is a deprecated function and will be removed in a future version. Please adapt your code to use either `displot` (a figure-level function with similar flexibility) or `histplot` (an axes-level function for histograms).\n",
      "  warnings.warn(msg, FutureWarning)\n",
      "/scratch/as14770/CV-FinalProject/Flows/flows_ood-master/experiments/train_flows/train_unsup_ood.py:355: DeprecationWarning: The binary mode of fromstring is deprecated, as it behaves surprisingly on unicode inputs. Use frombuffer instead\n",
      "  hist_img = torch.tensor(np.fromstring(fig.canvas.tostring_rgb(), dtype=np.uint8, sep=''))\n",
      "/scratch/as14770/CV-FinalProject/Flows/flows_ood-master/experiments/train_flows/train_unsup_ood.py:356: UserWarning: To copy construct from a tensor, it is recommended to use sourceTensor.clone().detach() or sourceTensor.clone().detach().requires_grad_(True), rather than torch.tensor(sourceTensor).\n",
      "  hist_img = torch.tensor(hist_img.reshape(fig.canvas.get_width_height()[::-1] + (3,))).transpose(0, 2).transpose(1, 2)\n",
      "Saving...\n",
      "\n",
      "Epoch: 1\n",
      " 76%|█████████   | 75680/100000 [26:40<08:33, 47.41it/s, bpd=4.08, loss=3.48e+4]^C\n",
      " 76%|█████████   | 75680/100000 [26:40<08:34, 47.28it/s, bpd=4.08, loss=3.48e+4]\n",
      "Traceback (most recent call last):\n",
      "  File \"/scratch/as14770/CV-FinalProject/Flows/flows_ood-master/experiments/train_flows/train_unsup_ood.py\", line 330, in <module>\n",
      "    train(epoch, net, trainloader, device, optimizer, loss_fn, args.max_grad_norm, writer, num_samples=args.num_samples)\n",
      "  File \"/scratch/as14770/CV-FinalProject/Flows/flows_ood-master/experiments/train_flows/train_unsup_ood.py\", line 68, in train\n",
      "    utils.clip_grad_norm(optimizer, max_grad_norm)\n",
      "  File \"/scratch/as14770/CV-FinalProject/Flows/flows_ood-master/experiments/train_flows/utils/optim_util.py\", line 31, in clip_grad_norm\n",
      "    utils.clip_grad_norm_(group['params'], max_norm, norm_type)\n",
      "  File \"/ext3/miniconda3/lib/python3.9/site-packages/torch/nn/utils/clip_grad.py\", line 38, in clip_grad_norm_\n",
      "    if clip_coef < 1:\n",
      "KeyboardInterrupt\n"
     ]
    }
   ],
   "source": [
    "!python train_unsup_ood.py --dataset=TinyImageNet --data_path=/scratch/as14770/CV-FinalProject/tiny-imagenet-200 --ood_data_path=/scratch/as14770/CV-FinalProject/DATA/imagenet-o --logdir=/scratch/as14770/CV-FinalProject/TinyImageNetLogs --ckptdir=/scratch/as14770/CV-FinalProject/TinyImageNetLogs "
   ]
  },
  {
   "cell_type": "code",
   "execution_count": null,
   "metadata": {},
   "outputs": [],
   "source": [
    "!python train_unsup.py --dataset=CIFAR10 --data_path=None --logdir=/scratch/as14770/CV-FinalProject/Flows/Trial \\\n",
    "  --ckptdir=/scratch/as14770/CV-FinalProject/Flows/Trial --num_epochs=101 --lr=1e-4 --batch_size=32 --num_blocks=8 \\\n",
    "  --weight_decay=5e-5 --num_scales=3"
   ]
  },
  {
   "cell_type": "code",
   "execution_count": null,
   "metadata": {},
   "outputs": [],
   "source": [
    "!python train_unsup_ood.py --dataset=CIFAR10 --data_path=None --ood_data_path=/scratch/as14770/CV-FinalProject/DATA/imagenet-o --logdir=/scratch/as14770/CV-FinalProject/Flows/Trial1 --ckptdir=/scratch/as14770/CV-FinalProject/Flows/Trial1 "
   ]
  }
 ],
 "metadata": {
  "kernelspec": {
   "display_name": "my_pytorch_env",
   "language": "python",
   "name": "my_pytorch_env"
  },
  "language_info": {
   "codemirror_mode": {
    "name": "ipython",
    "version": 3
   },
   "file_extension": ".py",
   "mimetype": "text/x-python",
   "name": "python",
   "nbconvert_exporter": "python",
   "pygments_lexer": "ipython3",
   "version": "3.9.5"
  }
 },
 "nbformat": 4,
 "nbformat_minor": 4
}
