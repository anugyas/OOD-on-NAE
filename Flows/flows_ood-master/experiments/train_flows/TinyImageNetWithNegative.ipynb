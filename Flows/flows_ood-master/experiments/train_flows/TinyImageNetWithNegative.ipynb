{
 "cells": [
  {
   "cell_type": "code",
   "execution_count": 1,
   "metadata": {},
   "outputs": [
    {
     "name": "stdout",
     "output_type": "stream",
     "text": [
      "/ext3/miniconda3/lib/python3.9/site-packages/torch/utils/data/dataloader.py:474: UserWarning: This DataLoader will create 8 worker processes in total. Our suggested max number of worker in current system is 4, which is smaller than what this DataLoader is going to create. Please be aware that excessive worker creation might get DataLoader running slow or even freeze, lower the worker number to avoid potential slowness/freeze if necessary.\n",
      "  warnings.warn(_create_warning_msg(\n",
      "Building RealNVP model...\n",
      "Model contains 19631640 parameters\n",
      "Traceback (most recent call last):\n",
      "  File \"/scratch/as14770/CV-FinalProject/Flows/flows_ood-master/experiments/train_flows/train_unsup_ood_negative.py\", line 388, in <module>\n",
      "    train(epoch, net, trainloader, ood_trainloader, device, optimizer, loss_fn, \n",
      "NameError: name 'ood_trainloader' is not defined\n"
     ]
    }
   ],
   "source": [
    "!python train_unsup_ood_negative.py --dataset=TinyImageNet --data_path=/scratch/as14770/CV-FinalProject/tiny-imagenet-200 --ood_data_path=/scratch/as14770/CV-FinalProject/DATA/imagenet-o --logdir=/scratch/as14770/CV-FinalProject/TinyImageNetWithNegativeLogs --ckptdir=/scratch/as14770/CV-FinalProject/TinyImageNetWithNegativeLogs "
   ]
  },
  {
   "cell_type": "code",
   "execution_count": null,
   "metadata": {},
   "outputs": [],
   "source": [
    "!python train_unsup.py --dataset=CIFAR10 --data_path=None --logdir=/scratch/as14770/CV-FinalProject/Flows/Trial \\\n",
    "  --ckptdir=/scratch/as14770/CV-FinalProject/Flows/Trial --num_epochs=101 --lr=1e-4 --batch_size=32 --num_blocks=8 \\\n",
    "  --weight_decay=5e-5 --num_scales=3"
   ]
  },
  {
   "cell_type": "code",
   "execution_count": null,
   "metadata": {},
   "outputs": [],
   "source": [
    "!python train_unsup_ood.py --dataset=CIFAR10 --data_path=None --ood_data_path=/scratch/as14770/CV-FinalProject/DATA/imagenet-o --logdir=/scratch/as14770/CV-FinalProject/Flows/Trial1 --ckptdir=/scratch/as14770/CV-FinalProject/Flows/Trial1 "
   ]
  }
 ],
 "metadata": {
  "kernelspec": {
   "display_name": "my_pytorch_env",
   "language": "python",
   "name": "my_pytorch_env"
  },
  "language_info": {
   "codemirror_mode": {
    "name": "ipython",
    "version": 3
   },
   "file_extension": ".py",
   "mimetype": "text/x-python",
   "name": "python",
   "nbconvert_exporter": "python",
   "pygments_lexer": "ipython3",
   "version": "3.9.5"
  }
 },
 "nbformat": 4,
 "nbformat_minor": 4
}
