{
 "cells": [
  {
   "cell_type": "code",
   "execution_count": null,
   "metadata": {},
   "outputs": [
    {
     "name": "stdout",
     "output_type": "stream",
     "text": [
      "/ext3/miniconda3/lib/python3.9/site-packages/torch/utils/data/dataloader.py:474: UserWarning: This DataLoader will create 8 worker processes in total. Our suggested max number of worker in current system is 4, which is smaller than what this DataLoader is going to create. Please be aware that excessive worker creation might get DataLoader running slow or even freeze, lower the worker number to avoid potential slowness/freeze if necessary.\n",
      "  warnings.warn(_create_warning_msg(\n",
      "Building RealNVP model...\n",
      "Model contains 19631640 parameters\n",
      "\n",
      "Epoch: 0\n",
      "  2%| | 1536/100000 [00:20<22:24, 73.24it/s, neg_bpd=13.5, neg_loss=-3.09e+4, po\n",
      "100%|████████████| 10001/10001 [00:16<00:00, 603.92it/s, bpd=9.47, loss=2.02e+4]\n",
      "100%|████████████████| 472/472 [00:02<00:00, 233.97it/s, bpd=14.7, loss=3.14e+4]\n",
      "/home/as14770/.local/lib/python3.9/site-packages/seaborn/distributions.py:2619: FutureWarning: `distplot` is a deprecated function and will be removed in a future version. Please adapt your code to use either `displot` (a figure-level function with similar flexibility) or `histplot` (an axes-level function for histograms).\n",
      "  warnings.warn(msg, FutureWarning)\n",
      "/home/as14770/.local/lib/python3.9/site-packages/seaborn/distributions.py:2619: FutureWarning: `distplot` is a deprecated function and will be removed in a future version. Please adapt your code to use either `displot` (a figure-level function with similar flexibility) or `histplot` (an axes-level function for histograms).\n",
      "  warnings.warn(msg, FutureWarning)\n",
      "/scratch/as14770/CV-FinalProject/Flows/flows_ood-master/experiments/train_flows/train_unsup_ood_negative.py:417: DeprecationWarning: The binary mode of fromstring is deprecated, as it behaves surprisingly on unicode inputs. Use frombuffer instead\n",
      "  hist_img = torch.tensor(np.fromstring(fig.canvas.tostring_rgb(), dtype=np.uint8, sep=''))\n",
      "/scratch/as14770/CV-FinalProject/Flows/flows_ood-master/experiments/train_flows/train_unsup_ood_negative.py:418: UserWarning: To copy construct from a tensor, it is recommended to use sourceTensor.clone().detach() or sourceTensor.clone().detach().requires_grad_(True), rather than torch.tensor(sourceTensor).\n",
      "  hist_img = torch.tensor(hist_img.reshape(fig.canvas.get_width_height()[::-1] + (3,))).transpose(0, 2).transpose(1, 2)\n",
      "Saving...\n",
      "\n",
      "Epoch: 1\n",
      "  0%|                                                | 0/100000 [00:00<?, ?it/s]/ext3/miniconda3/lib/python3.9/site-packages/torch/utils/data/dataloader.py:474: UserWarning: This DataLoader will create 8 worker processes in total. Our suggested max number of worker in current system is 4, which is smaller than what this DataLoader is going to create. Please be aware that excessive worker creation might get DataLoader running slow or even freeze, lower the worker number to avoid potential slowness/freeze if necessary.\n",
      "  warnings.warn(_create_warning_msg(\n",
      "  2%| | 1536/100000 [00:18<19:59, 82.12it/s, neg_bpd=17.3, neg_loss=-4.13e+4, po\n",
      "100%|████████████| 10001/10001 [00:16<00:00, 609.15it/s, bpd=13.8, loss=2.94e+4]\n",
      "100%|████████████████| 472/472 [00:01<00:00, 265.61it/s, bpd=23.2, loss=4.93e+4]\n",
      "/home/as14770/.local/lib/python3.9/site-packages/seaborn/distributions.py:2619: FutureWarning: `distplot` is a deprecated function and will be removed in a future version. Please adapt your code to use either `displot` (a figure-level function with similar flexibility) or `histplot` (an axes-level function for histograms).\n",
      "  warnings.warn(msg, FutureWarning)\n",
      "/home/as14770/.local/lib/python3.9/site-packages/seaborn/distributions.py:2619: FutureWarning: `distplot` is a deprecated function and will be removed in a future version. Please adapt your code to use either `displot` (a figure-level function with similar flexibility) or `histplot` (an axes-level function for histograms).\n",
      "  warnings.warn(msg, FutureWarning)\n",
      "/scratch/as14770/CV-FinalProject/Flows/flows_ood-master/experiments/train_flows/train_unsup_ood_negative.py:417: DeprecationWarning: The binary mode of fromstring is deprecated, as it behaves surprisingly on unicode inputs. Use frombuffer instead\n",
      "  hist_img = torch.tensor(np.fromstring(fig.canvas.tostring_rgb(), dtype=np.uint8, sep=''))\n",
      "/scratch/as14770/CV-FinalProject/Flows/flows_ood-master/experiments/train_flows/train_unsup_ood_negative.py:418: UserWarning: To copy construct from a tensor, it is recommended to use sourceTensor.clone().detach() or sourceTensor.clone().detach().requires_grad_(True), rather than torch.tensor(sourceTensor).\n",
      "  hist_img = torch.tensor(hist_img.reshape(fig.canvas.get_width_height()[::-1] + (3,))).transpose(0, 2).transpose(1, 2)\n",
      "\n",
      "Epoch: 2\n",
      "  0%|                                                | 0/100000 [00:00<?, ?it/s]/ext3/miniconda3/lib/python3.9/site-packages/torch/utils/data/dataloader.py:474: UserWarning: This DataLoader will create 8 worker processes in total. Our suggested max number of worker in current system is 4, which is smaller than what this DataLoader is going to create. Please be aware that excessive worker creation might get DataLoader running slow or even freeze, lower the worker number to avoid potential slowness/freeze if necessary.\n",
      "  warnings.warn(_create_warning_msg(\n",
      "  2%| | 1536/100000 [00:17<19:11, 85.51it/s, neg_bpd=20.6, neg_loss=-4.11e+4, po\n",
      "100%|████████████| 10001/10001 [00:16<00:00, 596.84it/s, bpd=16.6, loss=3.54e+4]\n",
      "100%|████████████████| 472/472 [00:01<00:00, 268.26it/s, bpd=28.8, loss=6.14e+4]\n",
      "/home/as14770/.local/lib/python3.9/site-packages/seaborn/distributions.py:2619: FutureWarning: `distplot` is a deprecated function and will be removed in a future version. Please adapt your code to use either `displot` (a figure-level function with similar flexibility) or `histplot` (an axes-level function for histograms).\n",
      "  warnings.warn(msg, FutureWarning)\n",
      "/home/as14770/.local/lib/python3.9/site-packages/seaborn/distributions.py:2619: FutureWarning: `distplot` is a deprecated function and will be removed in a future version. Please adapt your code to use either `displot` (a figure-level function with similar flexibility) or `histplot` (an axes-level function for histograms).\n",
      "  warnings.warn(msg, FutureWarning)\n",
      "/scratch/as14770/CV-FinalProject/Flows/flows_ood-master/experiments/train_flows/train_unsup_ood_negative.py:417: DeprecationWarning: The binary mode of fromstring is deprecated, as it behaves surprisingly on unicode inputs. Use frombuffer instead\n",
      "  hist_img = torch.tensor(np.fromstring(fig.canvas.tostring_rgb(), dtype=np.uint8, sep=''))\n",
      "/scratch/as14770/CV-FinalProject/Flows/flows_ood-master/experiments/train_flows/train_unsup_ood_negative.py:418: UserWarning: To copy construct from a tensor, it is recommended to use sourceTensor.clone().detach() or sourceTensor.clone().detach().requires_grad_(True), rather than torch.tensor(sourceTensor).\n",
      "  hist_img = torch.tensor(hist_img.reshape(fig.canvas.get_width_height()[::-1] + (3,))).transpose(0, 2).transpose(1, 2)\n",
      "\n",
      "Epoch: 3\n",
      "  0%|                                                | 0/100000 [00:00<?, ?it/s]/ext3/miniconda3/lib/python3.9/site-packages/torch/utils/data/dataloader.py:474: UserWarning: This DataLoader will create 8 worker processes in total. Our suggested max number of worker in current system is 4, which is smaller than what this DataLoader is going to create. Please be aware that excessive worker creation might get DataLoader running slow or even freeze, lower the worker number to avoid potential slowness/freeze if necessary.\n",
      "  warnings.warn(_create_warning_msg(\n",
      "  2%| | 1536/100000 [00:18<19:27, 84.34it/s, neg_bpd=23.4, neg_loss=-5.85e+4, po\n",
      "100%|████████████| 10001/10001 [00:16<00:00, 606.27it/s, bpd=20.5, loss=4.37e+4]\n",
      "100%|█████████████████| 472/472 [00:01<00:00, 278.02it/s, bpd=32.4, loss=6.9e+4]\n",
      "/home/as14770/.local/lib/python3.9/site-packages/seaborn/distributions.py:2619: FutureWarning: `distplot` is a deprecated function and will be removed in a future version. Please adapt your code to use either `displot` (a figure-level function with similar flexibility) or `histplot` (an axes-level function for histograms).\n",
      "  warnings.warn(msg, FutureWarning)\n",
      "/home/as14770/.local/lib/python3.9/site-packages/seaborn/distributions.py:2619: FutureWarning: `distplot` is a deprecated function and will be removed in a future version. Please adapt your code to use either `displot` (a figure-level function with similar flexibility) or `histplot` (an axes-level function for histograms).\n",
      "  warnings.warn(msg, FutureWarning)\n"
     ]
    },
    {
     "name": "stdout",
     "output_type": "stream",
     "text": [
      "/scratch/as14770/CV-FinalProject/Flows/flows_ood-master/experiments/train_flows/train_unsup_ood_negative.py:417: DeprecationWarning: The binary mode of fromstring is deprecated, as it behaves surprisingly on unicode inputs. Use frombuffer instead\n",
      "  hist_img = torch.tensor(np.fromstring(fig.canvas.tostring_rgb(), dtype=np.uint8, sep=''))\n",
      "/scratch/as14770/CV-FinalProject/Flows/flows_ood-master/experiments/train_flows/train_unsup_ood_negative.py:418: UserWarning: To copy construct from a tensor, it is recommended to use sourceTensor.clone().detach() or sourceTensor.clone().detach().requires_grad_(True), rather than torch.tensor(sourceTensor).\n",
      "  hist_img = torch.tensor(hist_img.reshape(fig.canvas.get_width_height()[::-1] + (3,))).transpose(0, 2).transpose(1, 2)\n",
      "\n",
      "Epoch: 4\n",
      "  0%|                                                | 0/100000 [00:00<?, ?it/s]/ext3/miniconda3/lib/python3.9/site-packages/torch/utils/data/dataloader.py:474: UserWarning: This DataLoader will create 8 worker processes in total. Our suggested max number of worker in current system is 4, which is smaller than what this DataLoader is going to create. Please be aware that excessive worker creation might get DataLoader running slow or even freeze, lower the worker number to avoid potential slowness/freeze if necessary.\n",
      "  warnings.warn(_create_warning_msg(\n",
      "  2%| | 1536/100000 [00:18<19:40, 83.42it/s, neg_bpd=30.2, neg_loss=-7.32e+4, po\n",
      "100%|████████████| 10001/10001 [00:16<00:00, 597.52it/s, bpd=43.8, loss=9.32e+4]\n",
      "100%|██████████████████| 472/472 [00:01<00:00, 262.74it/s, bpd=55, loss=1.17e+5]\n",
      "/home/as14770/.local/lib/python3.9/site-packages/seaborn/distributions.py:2619: FutureWarning: `distplot` is a deprecated function and will be removed in a future version. Please adapt your code to use either `displot` (a figure-level function with similar flexibility) or `histplot` (an axes-level function for histograms).\n",
      "  warnings.warn(msg, FutureWarning)\n",
      "/home/as14770/.local/lib/python3.9/site-packages/seaborn/distributions.py:2619: FutureWarning: `distplot` is a deprecated function and will be removed in a future version. Please adapt your code to use either `displot` (a figure-level function with similar flexibility) or `histplot` (an axes-level function for histograms).\n",
      "  warnings.warn(msg, FutureWarning)\n",
      "/scratch/as14770/CV-FinalProject/Flows/flows_ood-master/experiments/train_flows/train_unsup_ood_negative.py:417: DeprecationWarning: The binary mode of fromstring is deprecated, as it behaves surprisingly on unicode inputs. Use frombuffer instead\n",
      "  hist_img = torch.tensor(np.fromstring(fig.canvas.tostring_rgb(), dtype=np.uint8, sep=''))\n",
      "/scratch/as14770/CV-FinalProject/Flows/flows_ood-master/experiments/train_flows/train_unsup_ood_negative.py:418: UserWarning: To copy construct from a tensor, it is recommended to use sourceTensor.clone().detach() or sourceTensor.clone().detach().requires_grad_(True), rather than torch.tensor(sourceTensor).\n",
      "  hist_img = torch.tensor(hist_img.reshape(fig.canvas.get_width_height()[::-1] + (3,))).transpose(0, 2).transpose(1, 2)\n",
      "\n",
      "Epoch: 5\n",
      "  0%|                                                | 0/100000 [00:00<?, ?it/s]/ext3/miniconda3/lib/python3.9/site-packages/torch/utils/data/dataloader.py:474: UserWarning: This DataLoader will create 8 worker processes in total. Our suggested max number of worker in current system is 4, which is smaller than what this DataLoader is going to create. Please be aware that excessive worker creation might get DataLoader running slow or even freeze, lower the worker number to avoid potential slowness/freeze if necessary.\n",
      "  warnings.warn(_create_warning_msg(\n",
      "  2%| | 1536/100000 [00:18<19:54, 82.44it/s, neg_bpd=33.1, neg_loss=-7.31e+4, po\n",
      " 49%|██████▎      | 4864/10001 [00:08<00:08, 634.53it/s, bpd=25.4, loss=5.41e+4]"
     ]
    }
   ],
   "source": [
    "!python train_unsup_ood_negative.py --dataset=TinyImageNet --data_path=/scratch/as14770/CV-FinalProject/tiny-imagenet-200 --ood_dataset=ImageNet-O --ood_data_path=/scratch/as14770/CV-FinalProject/DATA/imagenet-o-train-test --logdir=/scratch/as14770/CV-FinalProject/Flows/TinyImageNetWithNegativeLogs --ckptdir=/scratch/as14770/CV-FinalProject/Flows/TinyImageNetWithNegativeLogs "
   ]
  }
 ],
 "metadata": {
  "kernelspec": {
   "display_name": "my_pytorch_env",
   "language": "python",
   "name": "my_pytorch_env"
  },
  "language_info": {
   "codemirror_mode": {
    "name": "ipython",
    "version": 3
   },
   "file_extension": ".py",
   "mimetype": "text/x-python",
   "name": "python",
   "nbconvert_exporter": "python",
   "pygments_lexer": "ipython3",
   "version": "3.9.5"
  }
 },
 "nbformat": 4,
 "nbformat_minor": 4
}
